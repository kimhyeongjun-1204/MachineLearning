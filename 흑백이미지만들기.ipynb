{
 "cells": [
  {
   "cell_type": "code",
   "execution_count": 9,
   "id": "e473cbd5-32b1-4a0c-950e-e74e68b64ff1",
   "metadata": {},
   "outputs": [],
   "source": [
    "import os\n",
    "from PIL import Image\n",
    "\n",
    "# 흑백 이미지로 변환할 폴더 경로\n",
    "folder_path = 'z_eegImages1'\n",
    "saved_path = 'zb_eegImages1' \n",
    "\n",
    "# 이미지 파일명 생성 및 변환\n",
    "for i in range(800):\n",
    "    img_path = os.path.join(folder_path, f'resized_eegfig{i}.png')  # 이미지 경로\n",
    "    img = Image.open(img_path)  # 이미지 열기\n",
    "    img_gray = img.convert('L')  # 흑백으로 변환\n",
    "    img_gray.save(os.path.join(saved_path, f'img{i}.png'))  # 변환된 이미지 저장\n"
   ]
  },
  {
   "cell_type": "markdown",
   "id": "ced62950-1c35-421a-9517-157553d72fa4",
   "metadata": {},
   "source": [
    "# 파일명 변경"
   ]
  },
  {
   "cell_type": "code",
   "execution_count": 3,
   "id": "891968f3-1cf5-4809-af60-5238581b043e",
   "metadata": {},
   "outputs": [],
   "source": [
    "import os\n",
    "\n",
    "# 흑백 이미지 파일이 있는 폴더 경로\n",
    "folder_path = 's_eegImages1'\n",
    "\n",
    "# 파일명 변경\n",
    "for i in range(800):\n",
    "    old_filename = os.path.join(folder_path, f'resized_eegfig_gray{i}.png')  # 기존 파일명\n",
    "    new_filename = os.path.join(folder_path, f'img{i}.png')  # 새로운 파일명\n",
    "    os.rename(old_filename, new_filename)  # 파일명 변경\n"
   ]
  },
  {
   "cell_type": "code",
   "execution_count": null,
   "id": "ca8111e1-484d-4b90-b49e-b3293df82249",
   "metadata": {},
   "outputs": [],
   "source": []
  }
 ],
 "metadata": {
  "kernelspec": {
   "display_name": "Python 3 (ipykernel)",
   "language": "python",
   "name": "python3"
  },
  "language_info": {
   "codemirror_mode": {
    "name": "ipython",
    "version": 3
   },
   "file_extension": ".py",
   "mimetype": "text/x-python",
   "name": "python",
   "nbconvert_exporter": "python",
   "pygments_lexer": "ipython3",
   "version": "3.12.4"
  }
 },
 "nbformat": 4,
 "nbformat_minor": 5
}
