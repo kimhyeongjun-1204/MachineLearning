{
 "cells": [
  {
   "cell_type": "code",
   "execution_count": 2,
   "id": "73c9b902-e069-4e5f-8303-0c462fe61d8c",
   "metadata": {},
   "outputs": [],
   "source": [
    "import os\n",
    "import numpy as np\n",
    "import pandas as pd\n",
    "from tensorflow.keras.preprocessing.image import ImageDataGenerator\n",
    "from tensorflow.keras.models import Sequential\n",
    "from tensorflow.keras.layers import Conv2D, MaxPooling2D, Flatten, Dense\n",
    "from tensorflow.keras.optimizers import Adam\n",
    "from tensorflow.keras.utils import to_categorical\n",
    "from sklearn.model_selection import train_test_split\n",
    "from keras.layers import Conv1D, MaxPooling1D, LSTM, Dense, Flatten\n",
    "from PIL import Image\n",
    "\n",
    "# 이미지 및 레이블 경로 설정\n",
    "z_image_folder = 'z_eegImages1'\n",
    "s_image_folder = 's_eegImages1'\n",
    "\n",
    "# 이미지 데이터와 레이블 배열 생성\n",
    "images = []\n",
    "labels = [] \n",
    "for i in range(800):\n",
    "    img_path = os.path.join(z_image_folder, f'img{i}.png')\n",
    "    img = Image.open(img_path).resize((224, 224))  # 이미지 크기 맞추기\n",
    "    img_array = np.array(img) / 255.0  # 정규화\n",
    "    images.append(img_array)\n",
    "    labels.append(0) \n",
    "\n",
    "for i in range(800):\n",
    "    img_path = os.path.join(s_image_folder, f'img{i}.png')\n",
    "    img = Image.open(img_path).resize((224, 224))  # 이미지 크기 맞추기\n",
    "    img_array = np.array(img) / 255.0  # 정규화\n",
    "    images.append(img_array)\n",
    "    labels.append(1) \n",
    "\n",
    "\n",
    "# Numpy 배열로 변환\n",
    "images = np.array(images)\n",
    "\n",
    "# 레이블을 Numpy 배열로 변환\n",
    "labels = np.array(labels)\n",
    "\n",
    "indices = np.arange(images.shape[0])\n",
    "np.random.shuffle(indices)\n",
    "\n",
    "images = images[indices]\n",
    "labels = labels[indices]\n"
   ]
  },
  {
   "cell_type": "code",
   "execution_count": null,
   "id": "2cc71869-1e3b-45d3-aba8-cf4907ba9865",
   "metadata": {
    "scrolled": true
   },
   "outputs": [
    {
     "name": "stdout",
     "output_type": "stream",
     "text": [
      "Epoch 1/10\n",
      "\u001b[1m40/40\u001b[0m \u001b[32m━━━━━━━━━━━━━━━━━━━━\u001b[0m\u001b[37m\u001b[0m \u001b[1m50s\u001b[0m 1s/step - accuracy: 0.4809 - loss: 0.7348 - val_accuracy: 0.4875 - val_loss: 0.6932\n",
      "Epoch 2/10\n",
      "\u001b[1m35/40\u001b[0m \u001b[32m━━━━━━━━━━━━━━━━━\u001b[0m\u001b[37m━━━\u001b[0m \u001b[1m5s\u001b[0m 1s/step - accuracy: 0.4711 - loss: 0.6932"
     ]
    }
   ],
   "source": [
    "# 데이터 분할 (훈련 데이터와 테스트 데이터)\n",
    "X_train, X_test, y_train, y_test = train_test_split(images, labels, test_size=0.2, random_state=42)\n",
    "\n",
    "from tensorflow.keras.models import Sequential\n",
    "from tensorflow.keras.layers import Conv2D, MaxPooling2D, Flatten, Dense,Dropout\n",
    "\n",
    "# CNN 모델 정의\n",
    "model = Sequential([\n",
    "    Conv2D(32, (3, 3), activation='relu', input_shape=(224, 224, 1)),  # 흑백 이미지에 맞게 input_shape 수정\n",
    "    MaxPooling2D(pool_size=(2, 2)),\n",
    "    Conv2D(64, (3, 3), activation='relu'),\n",
    "    MaxPooling2D(pool_size=(2, 2)),\n",
    "    Conv2D(128, (3, 3), activation='relu'),\n",
    "    MaxPooling2D(pool_size=(2, 2)),\n",
    "    Conv2D(256, (3, 3), activation='relu'),\n",
    "    MaxPooling2D(pool_size=(2, 2)),\n",
    "    Flatten(),\n",
    "    Dense(256, activation='relu'),\n",
    "    Dropout(0.5),\n",
    "    Dense(1, activation='sigmoid')  # 이진 분류\n",
    "])\n",
    "\n",
    "\n",
    "# 모델 컴파일\n",
    "model.compile(optimizer=Adam(), loss='binary_crossentropy', metrics=['accuracy'])\n",
    "\n",
    "# 모델 훈련\n",
    "model.fit(X_train, y_train, batch_size=32, epochs=10, validation_data=(X_test, y_test))\n",
    "\n",
    "# 모델 평가\n",
    "loss, accuracy = model.evaluate(X_test, y_test)\n",
    "print(f\"Test Loss: {loss}, Test Accuracy: {accuracy}\")\n"
   ]
  },
  {
   "cell_type": "code",
   "execution_count": 4,
   "id": "cf6eff6e-83a8-4189-84de-827d5353abe6",
   "metadata": {},
   "outputs": [
    {
     "name": "stdout",
     "output_type": "stream",
     "text": [
      "\u001b[1m10/10\u001b[0m \u001b[32m━━━━━━━━━━━━━━━━━━━━\u001b[0m\u001b[37m\u001b[0m \u001b[1m2s\u001b[0m 217ms/step\n",
      "민감도: 0.00\n",
      "특이도: 1.00\n",
      "정확도: 0.48\n"
     ]
    }
   ],
   "source": [
    "import numpy as np\n",
    "import pandas as pd\n",
    "from sklearn.metrics import confusion_matrix, accuracy_score, recall_score\n",
    "\n",
    "# 혼동 행렬 계산\n",
    "y_pred = model.predict(X_test) \n",
    "y_pred_class = (y_pred > 0.5).astype(int)\n",
    "\n",
    "tn, fp, fn, tp = confusion_matrix(y_test, y_pred_class).ravel()\n",
    "\n",
    "# 성능 지표 계산\n",
    "sensitivity = tp / (tp + fn)  # 민감도\n",
    "specificity = tn / (tn + fp)  # 특이도\n",
    "accuracy = accuracy_score(y_test, y_pred_class)  # 정확도\n",
    "\n",
    "print(f\"민감도: {sensitivity:.2f}\")\n",
    "print(f\"특이도: {specificity:.2f}\")\n",
    "print(f\"정확도: {accuracy:.2f}\")"
   ]
  },
  {
   "cell_type": "code",
   "execution_count": 5,
   "id": "ae2c6d2c-a528-4eb6-8da0-4c26d9ece11c",
   "metadata": {},
   "outputs": [
    {
     "data": {
      "text/plain": [
       "array([[154,   0],\n",
       "       [166,   0]], dtype=int64)"
      ]
     },
     "execution_count": 5,
     "metadata": {},
     "output_type": "execute_result"
    }
   ],
   "source": [
    "confusion_matrix(y_test, y_pred_class)"
   ]
  },
  {
   "cell_type": "code",
   "execution_count": null,
   "id": "cdf30c8e-c00a-4c04-b4eb-1b172cb7d736",
   "metadata": {},
   "outputs": [],
   "source": []
  }
 ],
 "metadata": {
  "kernelspec": {
   "display_name": "Python 3 (ipykernel)",
   "language": "python",
   "name": "python3"
  },
  "language_info": {
   "codemirror_mode": {
    "name": "ipython",
    "version": 3
   },
   "file_extension": ".py",
   "mimetype": "text/x-python",
   "name": "python",
   "nbconvert_exporter": "python",
   "pygments_lexer": "ipython3",
   "version": "3.12.4"
  }
 },
 "nbformat": 4,
 "nbformat_minor": 5
}
