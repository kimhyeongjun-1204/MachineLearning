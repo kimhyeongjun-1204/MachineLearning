{
 "cells": [
  {
   "cell_type": "code",
   "execution_count": null,
   "id": "13e54c2a-6a3d-4f07-878d-96f0f141aabb",
   "metadata": {},
   "outputs": [],
   "source": [
    "import os\n",
    "from PIL import Image\n",
    "\n",
    "# 원본 이미지와 변환된 이미지를 저장할 디렉토리 설정\n",
    "input_folder = 's_eegImages1'\n",
    "output_folder = 's_resized_images'\n",
    "\n",
    "# 출력 폴더가 없으면 생성\n",
    "os.makedirs(output_folder, exist_ok=True)\n",
    "\n",
    "# 변환할 이미지 크기 설정\n",
    "new_size = (224, 224)  # CNN 권장 크기 (예: 224x224)\n",
    "\n",
    "# 이미지 파일 변환\n",
    "for i in range(800):\n",
    "    # 이미지 파일 경로 설정\n",
    "    input_file = os.path.join(input_folder, f'eegfig{i}.png')\n",
    "    output_file = os.path.join(output_folder, f'resized_eegfig{i}.png')\n",
    "    \n",
    "    # 이미지 열기\n",
    "    with Image.open(input_file) as img:\n",
    "        # 이미지 리사이즈\n",
    "        img_resized = img.resize(new_size, Image.LANCZOS)  # ANTIALIAS 대신 LANCZOS 사용\n",
    "        # 변환된 이미지 저장\n",
    "        img_resized.save(output_file)\n",
    "\n",
    "print(\"이미지 변환 완료!\")\n"
   ]
  },
  {
   "cell_type": "code",
   "execution_count": null,
   "id": "4017f419-21e8-4055-b5bb-c83497edcac6",
   "metadata": {},
   "outputs": [],
   "source": []
  }
 ],
 "metadata": {
  "kernelspec": {
   "display_name": "Python 3 (ipykernel)",
   "language": "python",
   "name": "python3"
  },
  "language_info": {
   "codemirror_mode": {
    "name": "ipython",
    "version": 3
   },
   "file_extension": ".py",
   "mimetype": "text/x-python",
   "name": "python",
   "nbconvert_exporter": "python",
   "pygments_lexer": "ipython3",
   "version": "3.12.4"
  }
 },
 "nbformat": 4,
 "nbformat_minor": 5
}
