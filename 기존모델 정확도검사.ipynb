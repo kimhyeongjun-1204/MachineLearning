{
 "cells": [
  {
   "cell_type": "code",
   "execution_count": 3,
   "id": "1717d3b3-5f27-4516-b1aa-72f6e3d8517e",
   "metadata": {},
   "outputs": [
    {
     "name": "stdout",
     "output_type": "stream",
     "text": [
      "      mean_abs  mean_square    std_dev  median  range_values\n",
      "0    29.183594  1310.128906  34.690899    11.0         188.0\n",
      "1    37.214844  2318.226562  47.406372     9.5         294.0\n",
      "2    31.261719  1514.011719  38.065834     9.0         220.0\n",
      "3    33.623047  1853.623047  42.920158     3.0         255.0\n",
      "4    29.708984  1484.630859  37.983025     7.0         224.0\n",
      "..         ...          ...        ...     ...           ...\n",
      "795  40.355469  2597.703125  40.269455   -29.0         215.0\n",
      "796  41.611328  2499.103516  43.001770   -29.5         242.0\n",
      "797  41.535156  2587.867188  40.778084   -35.0         271.0\n",
      "798  36.560547  2167.185547  35.373661   -27.5         219.0\n",
      "799  36.337891  2068.833984  37.294811   -25.0         222.0\n",
      "\n",
      "[800 rows x 5 columns]\n"
     ]
    }
   ],
   "source": [
    "import numpy as np\n",
    "import pandas as pd\n",
    "import matplotlib.pyplot as plt\n",
    "import pywt  # 웨이블릿 변환 라이브러리\n",
    "\n",
    "plt.rcParams.update({'figure.max_open_warning': 0})\n",
    "# 이미지 크기 설정\n",
    "plt.rcParams['figure.figsize'] = 12, 6\n",
    "\n",
    "# 정상 데이터 로드\n",
    "z_data = np.loadtxt('ZALL.csv', delimiter=',', dtype=np.float32)  # CSV 파일로 읽기\n",
    "\n",
    "# 결과를 저장할 리스트\n",
    "mean_abs_results = []\n",
    "mean_square_results = []\n",
    "std_dev_results = []\n",
    "median_results = []\n",
    "range_results = []\n",
    "\n",
    "# 데이터 처리\n",
    "for i in range(int(len(z_data) / 512)):\n",
    "    segment = z_data[i * 512: (i + 1) * 512]\n",
    "    \n",
    "    # (1) 절대값의 평균\n",
    "    mean_abs = np.mean(np.abs(segment))\n",
    "    mean_abs_results.append(mean_abs)\n",
    "\n",
    "    # (2) 제곱하여 구한 평균값\n",
    "    mean_square = np.mean(segment ** 2)\n",
    "    mean_square_results.append(mean_square)\n",
    "    \n",
    "    # (3) 표준편차\n",
    "    std_dev = np.std(segment)\n",
    "    std_dev_results.append(std_dev)\n",
    "    \n",
    "    # (4) 중앙값\n",
    "    median = np.median(segment)\n",
    "    median_results.append(median)\n",
    "    \n",
    "    # (5) 범위 추가 (max - min)\n",
    "    range_values = np.max(segment) - np.min(segment)\n",
    "    range_results.append(range_values)\n",
    "\n",
    "# 데이터프레임 생성\n",
    "z_results = pd.DataFrame({\n",
    "    'mean_abs': mean_abs_results,\n",
    "    'mean_square': mean_square_results,\n",
    "    'std_dev': std_dev_results,\n",
    "    'median': median_results,\n",
    "    'range_values': range_results\n",
    "})\n",
    "\n",
    "# 결과 확인\n",
    "print(z_results)"
   ]
  },
  {
   "cell_type": "code",
   "execution_count": 4,
   "id": "f525d11a-4b11-4da7-ae66-22e84c81b9cf",
   "metadata": {},
   "outputs": [
    {
     "name": "stdout",
     "output_type": "stream",
     "text": [
      "       mean_abs    mean_square     std_dev  median  range_values\n",
      "0    329.742188  178061.656250  416.698730   174.5        2435.0\n",
      "1    358.210938  215388.250000  462.950958   159.0        2423.0\n",
      "2    409.806641  257685.156250  506.181946   199.0        2522.0\n",
      "3    360.818359  217035.343750  464.125610   175.0        2546.0\n",
      "4    355.167969  221057.156250  468.441437   170.0        2536.0\n",
      "..          ...            ...         ...     ...           ...\n",
      "795  237.154297   72044.437500  268.359039   -77.0        1072.0\n",
      "796  175.031250   42579.507812  205.511063     8.5         971.0\n",
      "797  205.912109   58821.937500  242.500916   -11.5        1092.0\n",
      "798  200.312500   58867.476562  242.598022   -24.0        1225.0\n",
      "799  184.291016   52860.031250  229.905869   -49.5        1202.0\n",
      "\n",
      "[800 rows x 5 columns]\n"
     ]
    }
   ],
   "source": [
    "import numpy as np\n",
    "import pandas as pd\n",
    "import matplotlib.pyplot as plt\n",
    "import pywt  # 웨이블릿 변환 라이브러리\n",
    "\n",
    "plt.rcParams.update({'figure.max_open_warning': 0})\n",
    "# 이미지 크기 설정\n",
    "plt.rcParams['figure.figsize'] = 12, 6\n",
    "\n",
    "# 데이터 로드\n",
    "s_data = np.loadtxt('SALL.csv', delimiter=',', dtype=np.float32)  # CSV 파일로 읽기\n",
    "\n",
    "# 결과를 저장할 리스트\n",
    "mean_abs_results = []\n",
    "mean_square_results = []\n",
    "std_dev_results = []\n",
    "median_results = []\n",
    "range_results = []\n",
    "\n",
    "# 데이터 처리\n",
    "for i in range(int(len(s_data) / 512)):\n",
    "    segment = s_data[i * 512: (i + 1) * 512]\n",
    "    \n",
    "    # (1) 절대값의 평균\n",
    "    mean_abs = np.mean(np.abs(segment))\n",
    "    mean_abs_results.append(mean_abs)\n",
    "\n",
    "    # (2) 제곱하여 구한 평균값\n",
    "    mean_square = np.mean(segment ** 2)\n",
    "    mean_square_results.append(mean_square)\n",
    "    \n",
    "    # (3) 표준편차\n",
    "    std_dev = np.std(segment)\n",
    "    std_dev_results.append(std_dev)\n",
    "    \n",
    "    # (4) 중앙값\n",
    "    median = np.median(segment)\n",
    "    median_results.append(median)\n",
    "    \n",
    "    # (5) 범위 추가 (max - min)\n",
    "    range_values = np.max(segment) - np.min(segment)\n",
    "    range_results.append(range_values)\n",
    "\n",
    "# 데이터프레임 생성\n",
    "s_results = pd.DataFrame({\n",
    "    'mean_abs': mean_abs_results,\n",
    "    'mean_square': mean_square_results,\n",
    "    'std_dev': std_dev_results,\n",
    "    'median': median_results,\n",
    "    'range_values': range_results\n",
    "})\n",
    "\n",
    "# 결과 확인\n",
    "print(s_results)"
   ]
  },
  {
   "cell_type": "code",
   "execution_count": 8,
   "id": "379ec278-f44b-40fe-93e1-b0b309e18a37",
   "metadata": {},
   "outputs": [],
   "source": [
    "z_results['label'] = 0 #정상 0 \n",
    "s_results['label'] = 1 # 비정상 1 "
   ]
  },
  {
   "cell_type": "code",
   "execution_count": 21,
   "id": "c70827ff-f71e-4e39-9c30-9f2212b06d30",
   "metadata": {},
   "outputs": [
    {
     "data": {
      "text/html": [
       "<div>\n",
       "<style scoped>\n",
       "    .dataframe tbody tr th:only-of-type {\n",
       "        vertical-align: middle;\n",
       "    }\n",
       "\n",
       "    .dataframe tbody tr th {\n",
       "        vertical-align: top;\n",
       "    }\n",
       "\n",
       "    .dataframe thead th {\n",
       "        text-align: right;\n",
       "    }\n",
       "</style>\n",
       "<table border=\"1\" class=\"dataframe\">\n",
       "  <thead>\n",
       "    <tr style=\"text-align: right;\">\n",
       "      <th></th>\n",
       "      <th>mean_abs</th>\n",
       "      <th>mean_square</th>\n",
       "      <th>std_dev</th>\n",
       "      <th>median</th>\n",
       "      <th>range_values</th>\n",
       "      <th>label</th>\n",
       "    </tr>\n",
       "  </thead>\n",
       "  <tbody>\n",
       "    <tr>\n",
       "      <th>0</th>\n",
       "      <td>41.718750</td>\n",
       "      <td>2723.179688</td>\n",
       "      <td>50.388748</td>\n",
       "      <td>17.0</td>\n",
       "      <td>292.0</td>\n",
       "      <td>0</td>\n",
       "    </tr>\n",
       "    <tr>\n",
       "      <th>1</th>\n",
       "      <td>28.417969</td>\n",
       "      <td>1172.507812</td>\n",
       "      <td>34.240841</td>\n",
       "      <td>-0.5</td>\n",
       "      <td>184.0</td>\n",
       "      <td>0</td>\n",
       "    </tr>\n",
       "    <tr>\n",
       "      <th>2</th>\n",
       "      <td>37.679688</td>\n",
       "      <td>2193.386719</td>\n",
       "      <td>45.726913</td>\n",
       "      <td>8.0</td>\n",
       "      <td>247.0</td>\n",
       "      <td>0</td>\n",
       "    </tr>\n",
       "    <tr>\n",
       "      <th>3</th>\n",
       "      <td>34.158203</td>\n",
       "      <td>1838.919922</td>\n",
       "      <td>35.152519</td>\n",
       "      <td>-24.0</td>\n",
       "      <td>210.0</td>\n",
       "      <td>0</td>\n",
       "    </tr>\n",
       "    <tr>\n",
       "      <th>4</th>\n",
       "      <td>133.500000</td>\n",
       "      <td>28152.300781</td>\n",
       "      <td>167.665176</td>\n",
       "      <td>-11.0</td>\n",
       "      <td>1025.0</td>\n",
       "      <td>1</td>\n",
       "    </tr>\n",
       "    <tr>\n",
       "      <th>...</th>\n",
       "      <td>...</td>\n",
       "      <td>...</td>\n",
       "      <td>...</td>\n",
       "      <td>...</td>\n",
       "      <td>...</td>\n",
       "      <td>...</td>\n",
       "    </tr>\n",
       "    <tr>\n",
       "      <th>1595</th>\n",
       "      <td>493.576172</td>\n",
       "      <td>356143.500000</td>\n",
       "      <td>596.757080</td>\n",
       "      <td>-98.0</td>\n",
       "      <td>2735.0</td>\n",
       "      <td>1</td>\n",
       "    </tr>\n",
       "    <tr>\n",
       "      <th>1596</th>\n",
       "      <td>38.886719</td>\n",
       "      <td>2302.625000</td>\n",
       "      <td>47.875225</td>\n",
       "      <td>1.5</td>\n",
       "      <td>274.0</td>\n",
       "      <td>0</td>\n",
       "    </tr>\n",
       "    <tr>\n",
       "      <th>1597</th>\n",
       "      <td>320.261719</td>\n",
       "      <td>169556.562500</td>\n",
       "      <td>410.157501</td>\n",
       "      <td>93.0</td>\n",
       "      <td>2258.0</td>\n",
       "      <td>1</td>\n",
       "    </tr>\n",
       "    <tr>\n",
       "      <th>1598</th>\n",
       "      <td>24.009766</td>\n",
       "      <td>850.861328</td>\n",
       "      <td>26.712879</td>\n",
       "      <td>15.0</td>\n",
       "      <td>145.0</td>\n",
       "      <td>0</td>\n",
       "    </tr>\n",
       "    <tr>\n",
       "      <th>1599</th>\n",
       "      <td>187.359375</td>\n",
       "      <td>52194.910156</td>\n",
       "      <td>228.217590</td>\n",
       "      <td>-17.0</td>\n",
       "      <td>976.0</td>\n",
       "      <td>1</td>\n",
       "    </tr>\n",
       "  </tbody>\n",
       "</table>\n",
       "<p>1600 rows × 6 columns</p>\n",
       "</div>"
      ],
      "text/plain": [
       "        mean_abs    mean_square     std_dev  median  range_values  label\n",
       "0      41.718750    2723.179688   50.388748    17.0         292.0      0\n",
       "1      28.417969    1172.507812   34.240841    -0.5         184.0      0\n",
       "2      37.679688    2193.386719   45.726913     8.0         247.0      0\n",
       "3      34.158203    1838.919922   35.152519   -24.0         210.0      0\n",
       "4     133.500000   28152.300781  167.665176   -11.0        1025.0      1\n",
       "...          ...            ...         ...     ...           ...    ...\n",
       "1595  493.576172  356143.500000  596.757080   -98.0        2735.0      1\n",
       "1596   38.886719    2302.625000   47.875225     1.5         274.0      0\n",
       "1597  320.261719  169556.562500  410.157501    93.0        2258.0      1\n",
       "1598   24.009766     850.861328   26.712879    15.0         145.0      0\n",
       "1599  187.359375   52194.910156  228.217590   -17.0         976.0      1\n",
       "\n",
       "[1600 rows x 6 columns]"
      ]
     },
     "execution_count": 21,
     "metadata": {},
     "output_type": "execute_result"
    }
   ],
   "source": [
    "total_results = pd.concat([z_results, s_results], axis=0, ignore_index=True)\n",
    "\n",
    "# 행을 무작위로 섞기 \n",
    "df = total_results.sample(frac=1).reset_index(drop=True)\n",
    "df     "
   ]
  },
  {
   "cell_type": "code",
   "execution_count": 22,
   "id": "683a347b-98db-4cd8-8a28-b71093a9c913",
   "metadata": {},
   "outputs": [
    {
     "data": {
      "text/html": [
       "<div>\n",
       "<style scoped>\n",
       "    .dataframe tbody tr th:only-of-type {\n",
       "        vertical-align: middle;\n",
       "    }\n",
       "\n",
       "    .dataframe tbody tr th {\n",
       "        vertical-align: top;\n",
       "    }\n",
       "\n",
       "    .dataframe thead th {\n",
       "        text-align: right;\n",
       "    }\n",
       "</style>\n",
       "<table border=\"1\" class=\"dataframe\">\n",
       "  <thead>\n",
       "    <tr style=\"text-align: right;\">\n",
       "      <th></th>\n",
       "      <th>mean_abs</th>\n",
       "      <th>mean_square</th>\n",
       "      <th>std_dev</th>\n",
       "      <th>median</th>\n",
       "      <th>range_values</th>\n",
       "    </tr>\n",
       "  </thead>\n",
       "  <tbody>\n",
       "    <tr>\n",
       "      <th>0</th>\n",
       "      <td>41.718750</td>\n",
       "      <td>2723.179688</td>\n",
       "      <td>50.388748</td>\n",
       "      <td>17.0</td>\n",
       "      <td>292.0</td>\n",
       "    </tr>\n",
       "    <tr>\n",
       "      <th>1</th>\n",
       "      <td>28.417969</td>\n",
       "      <td>1172.507812</td>\n",
       "      <td>34.240841</td>\n",
       "      <td>-0.5</td>\n",
       "      <td>184.0</td>\n",
       "    </tr>\n",
       "    <tr>\n",
       "      <th>2</th>\n",
       "      <td>37.679688</td>\n",
       "      <td>2193.386719</td>\n",
       "      <td>45.726913</td>\n",
       "      <td>8.0</td>\n",
       "      <td>247.0</td>\n",
       "    </tr>\n",
       "    <tr>\n",
       "      <th>3</th>\n",
       "      <td>34.158203</td>\n",
       "      <td>1838.919922</td>\n",
       "      <td>35.152519</td>\n",
       "      <td>-24.0</td>\n",
       "      <td>210.0</td>\n",
       "    </tr>\n",
       "    <tr>\n",
       "      <th>4</th>\n",
       "      <td>133.500000</td>\n",
       "      <td>28152.300781</td>\n",
       "      <td>167.665176</td>\n",
       "      <td>-11.0</td>\n",
       "      <td>1025.0</td>\n",
       "    </tr>\n",
       "    <tr>\n",
       "      <th>...</th>\n",
       "      <td>...</td>\n",
       "      <td>...</td>\n",
       "      <td>...</td>\n",
       "      <td>...</td>\n",
       "      <td>...</td>\n",
       "    </tr>\n",
       "    <tr>\n",
       "      <th>1595</th>\n",
       "      <td>493.576172</td>\n",
       "      <td>356143.500000</td>\n",
       "      <td>596.757080</td>\n",
       "      <td>-98.0</td>\n",
       "      <td>2735.0</td>\n",
       "    </tr>\n",
       "    <tr>\n",
       "      <th>1596</th>\n",
       "      <td>38.886719</td>\n",
       "      <td>2302.625000</td>\n",
       "      <td>47.875225</td>\n",
       "      <td>1.5</td>\n",
       "      <td>274.0</td>\n",
       "    </tr>\n",
       "    <tr>\n",
       "      <th>1597</th>\n",
       "      <td>320.261719</td>\n",
       "      <td>169556.562500</td>\n",
       "      <td>410.157501</td>\n",
       "      <td>93.0</td>\n",
       "      <td>2258.0</td>\n",
       "    </tr>\n",
       "    <tr>\n",
       "      <th>1598</th>\n",
       "      <td>24.009766</td>\n",
       "      <td>850.861328</td>\n",
       "      <td>26.712879</td>\n",
       "      <td>15.0</td>\n",
       "      <td>145.0</td>\n",
       "    </tr>\n",
       "    <tr>\n",
       "      <th>1599</th>\n",
       "      <td>187.359375</td>\n",
       "      <td>52194.910156</td>\n",
       "      <td>228.217590</td>\n",
       "      <td>-17.0</td>\n",
       "      <td>976.0</td>\n",
       "    </tr>\n",
       "  </tbody>\n",
       "</table>\n",
       "<p>1600 rows × 5 columns</p>\n",
       "</div>"
      ],
      "text/plain": [
       "        mean_abs    mean_square     std_dev  median  range_values\n",
       "0      41.718750    2723.179688   50.388748    17.0         292.0\n",
       "1      28.417969    1172.507812   34.240841    -0.5         184.0\n",
       "2      37.679688    2193.386719   45.726913     8.0         247.0\n",
       "3      34.158203    1838.919922   35.152519   -24.0         210.0\n",
       "4     133.500000   28152.300781  167.665176   -11.0        1025.0\n",
       "...          ...            ...         ...     ...           ...\n",
       "1595  493.576172  356143.500000  596.757080   -98.0        2735.0\n",
       "1596   38.886719    2302.625000   47.875225     1.5         274.0\n",
       "1597  320.261719  169556.562500  410.157501    93.0        2258.0\n",
       "1598   24.009766     850.861328   26.712879    15.0         145.0\n",
       "1599  187.359375   52194.910156  228.217590   -17.0         976.0\n",
       "\n",
       "[1600 rows x 5 columns]"
      ]
     },
     "execution_count": 22,
     "metadata": {},
     "output_type": "execute_result"
    }
   ],
   "source": [
    "X = df.drop('label', axis=1)\n",
    "X"
   ]
  },
  {
   "cell_type": "code",
   "execution_count": 11,
   "id": "e7109211-89ef-4ec0-9940-9aa9c10b3e5e",
   "metadata": {},
   "outputs": [
    {
     "data": {
      "text/plain": [
       "0    0\n",
       "1    1\n",
       "2    0\n",
       "3    1\n",
       "4    0\n",
       "Name: label, dtype: int64"
      ]
     },
     "execution_count": 11,
     "metadata": {},
     "output_type": "execute_result"
    }
   ],
   "source": [
    "y = df.label\n",
    "y.head()"
   ]
  },
  {
   "cell_type": "markdown",
   "id": "20687de8-2590-4b68-a545-a466467ba84d",
   "metadata": {},
   "source": [
    "# 훈련세트, 검증세트 분리를 80%, 20% 분리 "
   ]
  },
  {
   "cell_type": "code",
   "execution_count": 29,
   "id": "f0359300-2bde-44fb-9747-e3dc46363ba8",
   "metadata": {},
   "outputs": [
    {
     "data": {
      "text/plain": [
       "(1600, 5)"
      ]
     },
     "execution_count": 29,
     "metadata": {},
     "output_type": "execute_result"
    }
   ],
   "source": [
    "from sklearn.model_selection import train_test_split\n",
    "X_train,X_test, y_train,y_test = train_test_split(X,y,test_size=0.2,random_state=0) \n",
    "\n",
    "X.shape"
   ]
  },
  {
   "cell_type": "code",
   "execution_count": 23,
   "id": "d5a98ca9-0f9b-4dab-b3da-ffbc1d09bc3a",
   "metadata": {},
   "outputs": [
    {
     "name": "stdout",
     "output_type": "stream",
     "text": [
      "5\n"
     ]
    }
   ],
   "source": [
    "input_dim  = X.shape[1]\n",
    "print(input_dim) "
   ]
  },
  {
   "cell_type": "markdown",
   "id": "c9d94fd5-bcc7-4062-b1e5-8d2e412edfc3",
   "metadata": {},
   "source": [
    "# 2. 모델 구축 "
   ]
  },
  {
   "cell_type": "code",
   "execution_count": 16,
   "id": "952ef249-279a-48cb-89bb-80080017625c",
   "metadata": {},
   "outputs": [
    {
     "name": "stderr",
     "output_type": "stream",
     "text": [
      "C:\\Users\\tansy\\anaconda3\\Lib\\site-packages\\keras\\src\\layers\\core\\dense.py:87: UserWarning: Do not pass an `input_shape`/`input_dim` argument to a layer. When using Sequential models, prefer using an `Input(shape)` object as the first layer in the model instead.\n",
      "  super().__init__(activity_regularizer=activity_regularizer, **kwargs)\n"
     ]
    }
   ],
   "source": [
    "import tensorflow as tf\n",
    "from tensorflow.keras.models import Sequential\n",
    "from tensorflow.keras.layers import Dense\n",
    "\n",
    "# 모델 구성\n",
    "model = Sequential([\n",
    "    Dense(64, activation='relu', input_shape=(input_dim,)),  # 첫 번째 은닉층\n",
    "    Dense(32, activation='relu'),                     # 두 번째 은닉층\n",
    "    Dense(16, activation='relu'),                     # 세 번째 은닉층\n",
    "    Dense(1, activation='sigmoid')                    # 출력층 \n",
    "])\n",
    "\n",
    "# 모델 컴파일\n",
    "model.compile(optimizer='adam',\n",
    "              loss='binary_crossentropy',\n",
    "              metrics=['accuracy'])\n"
   ]
  },
  {
   "cell_type": "markdown",
   "id": "ea17b9e3-2fe6-4405-827e-1c1f5b02c6d9",
   "metadata": {},
   "source": [
    "# 3. 모델 학습 "
   ]
  },
  {
   "cell_type": "code",
   "execution_count": 17,
   "id": "287499ce-9b56-480a-a05a-39112f99c065",
   "metadata": {},
   "outputs": [
    {
     "name": "stdout",
     "output_type": "stream",
     "text": [
      "Epoch 1/10\n",
      "\u001b[1m40/40\u001b[0m \u001b[32m━━━━━━━━━━━━━━━━━━━━\u001b[0m\u001b[37m\u001b[0m \u001b[1m4s\u001b[0m 14ms/step - accuracy: 0.4968 - loss: 2934.7705 - val_accuracy: 0.4969 - val_loss: 34.0382\n",
      "Epoch 2/10\n",
      "\u001b[1m40/40\u001b[0m \u001b[32m━━━━━━━━━━━━━━━━━━━━\u001b[0m\u001b[37m\u001b[0m \u001b[1m0s\u001b[0m 4ms/step - accuracy: 0.5713 - loss: 21.2343 - val_accuracy: 0.9469 - val_loss: 0.4762\n",
      "Epoch 3/10\n",
      "\u001b[1m40/40\u001b[0m \u001b[32m━━━━━━━━━━━━━━━━━━━━\u001b[0m\u001b[37m\u001b[0m \u001b[1m0s\u001b[0m 4ms/step - accuracy: 0.9438 - loss: 0.4846 - val_accuracy: 0.9531 - val_loss: 0.5111\n",
      "Epoch 4/10\n",
      "\u001b[1m40/40\u001b[0m \u001b[32m━━━━━━━━━━━━━━━━━━━━\u001b[0m\u001b[37m\u001b[0m \u001b[1m0s\u001b[0m 4ms/step - accuracy: 0.9534 - loss: 0.3405 - val_accuracy: 0.9531 - val_loss: 0.5630\n",
      "Epoch 5/10\n",
      "\u001b[1m40/40\u001b[0m \u001b[32m━━━━━━━━━━━━━━━━━━━━\u001b[0m\u001b[37m\u001b[0m \u001b[1m0s\u001b[0m 4ms/step - accuracy: 0.9482 - loss: 0.3985 - val_accuracy: 0.9375 - val_loss: 0.3891\n",
      "Epoch 6/10\n",
      "\u001b[1m40/40\u001b[0m \u001b[32m━━━━━━━━━━━━━━━━━━━━\u001b[0m\u001b[37m\u001b[0m \u001b[1m0s\u001b[0m 5ms/step - accuracy: 0.9527 - loss: 0.2778 - val_accuracy: 0.9531 - val_loss: 0.3508\n",
      "Epoch 7/10\n",
      "\u001b[1m40/40\u001b[0m \u001b[32m━━━━━━━━━━━━━━━━━━━━\u001b[0m\u001b[37m\u001b[0m \u001b[1m0s\u001b[0m 5ms/step - accuracy: 0.9382 - loss: 0.3665 - val_accuracy: 0.9500 - val_loss: 0.5266\n",
      "Epoch 8/10\n",
      "\u001b[1m40/40\u001b[0m \u001b[32m━━━━━━━━━━━━━━━━━━━━\u001b[0m\u001b[37m\u001b[0m \u001b[1m0s\u001b[0m 5ms/step - accuracy: 0.9562 - loss: 0.3520 - val_accuracy: 0.9406 - val_loss: 0.3282\n",
      "Epoch 9/10\n",
      "\u001b[1m40/40\u001b[0m \u001b[32m━━━━━━━━━━━━━━━━━━━━\u001b[0m\u001b[37m\u001b[0m \u001b[1m0s\u001b[0m 5ms/step - accuracy: 0.9596 - loss: 0.2253 - val_accuracy: 0.9406 - val_loss: 0.3182\n",
      "Epoch 10/10\n",
      "\u001b[1m40/40\u001b[0m \u001b[32m━━━━━━━━━━━━━━━━━━━━\u001b[0m\u001b[37m\u001b[0m \u001b[1m0s\u001b[0m 5ms/step - accuracy: 0.9585 - loss: 0.2285 - val_accuracy: 0.9438 - val_loss: 0.2910\n"
     ]
    }
   ],
   "source": [
    "model_history=model.fit(x=X_train, y=y_train, epochs=10, batch_size=32,validation_data= (X_test,y_test))"
   ]
  },
  {
   "cell_type": "markdown",
   "id": "b47ec6ba-14ce-49b3-adfa-6b43e96ec576",
   "metadata": {},
   "source": [
    "# 4. 모델 평가"
   ]
  },
  {
   "cell_type": "code",
   "execution_count": 18,
   "id": "70131282-b84c-4d71-a2b7-346feb30697d",
   "metadata": {},
   "outputs": [
    {
     "name": "stdout",
     "output_type": "stream",
     "text": [
      "\u001b[1m10/10\u001b[0m \u001b[32m━━━━━━━━━━━━━━━━━━━━\u001b[0m\u001b[37m\u001b[0m \u001b[1m0s\u001b[0m 2ms/step  \n",
      "민감도: 0.96\n",
      "특이도: 0.93\n",
      "정확도: 0.94\n"
     ]
    }
   ],
   "source": [
    "import numpy as np\n",
    "import pandas as pd\n",
    "from sklearn.metrics import confusion_matrix, accuracy_score, recall_score\n",
    "\n",
    "# 혼동 행렬 계산\n",
    "y_pred = model.predict(X_test) \n",
    "y_pred_class = (y_pred > 0.5).astype(int)\n",
    "\n",
    "tn, fp, fn, tp = confusion_matrix(y_test, y_pred_class).ravel()\n",
    "\n",
    "# 성능 지표 계산\n",
    "sensitivity = tp / (tp + fn)  # 민감도     \n",
    "specificity = tn / (tn + fp)  # 특이도 : 150 / 161\n",
    "accuracy = accuracy_score(y_test, y_pred_class)  # 정확도\n",
    "\n",
    "print(f\"민감도: {sensitivity:.2f}\")\n",
    "print(f\"특이도: {specificity:.2f}\")\n",
    "print(f\"정확도: {accuracy:.2f}\")"
   ]
  },
  {
   "cell_type": "code",
   "execution_count": 19,
   "id": "48808ae0-0ce7-4f21-80fa-504bf6f99eea",
   "metadata": {},
   "outputs": [
    {
     "data": {
      "text/plain": [
       "array([[150,  11],\n",
       "       [  7, 152]], dtype=int64)"
      ]
     },
     "execution_count": 19,
     "metadata": {},
     "output_type": "execute_result"
    }
   ],
   "source": [
    "confusion_matrix(y_test, y_pred_class)"
   ]
  },
  {
   "cell_type": "code",
   "execution_count": null,
   "id": "01c03918-f7e4-4d42-9771-112b7028fe76",
   "metadata": {},
   "outputs": [],
   "source": []
  }
 ],
 "metadata": {
  "kernelspec": {
   "display_name": "Python 3 (ipykernel)",
   "language": "python",
   "name": "python3"
  },
  "language_info": {
   "codemirror_mode": {
    "name": "ipython",
    "version": 3
   },
   "file_extension": ".py",
   "mimetype": "text/x-python",
   "name": "python",
   "nbconvert_exporter": "python",
   "pygments_lexer": "ipython3",
   "version": "3.12.4"
  }
 },
 "nbformat": 4,
 "nbformat_minor": 5
}
