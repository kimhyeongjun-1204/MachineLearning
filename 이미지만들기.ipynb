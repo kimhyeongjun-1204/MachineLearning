{
 "cells": [
  {
   "cell_type": "code",
   "execution_count": 1,
   "id": "6ed6caec-dd5a-4fef-ba94-3700c8fad467",
   "metadata": {},
   "outputs": [
    {
     "name": "stderr",
     "output_type": "stream",
     "text": [
      "<>:25: SyntaxWarning: invalid escape sequence '\\e'\n",
      "<>:25: SyntaxWarning: invalid escape sequence '\\e'\n",
      "C:\\Users\\tansy\\AppData\\Local\\Temp\\ipykernel_5648\\68459655.py:25: SyntaxWarning: invalid escape sequence '\\e'\n",
      "  plt.savefig(\"s_eegImages100\\eegfig\" + str(i) + \".png\", dpi=600)\n"
     ]
    },
    {
     "data": {
      "text/plain": [
       "<Figure size 640x480 with 0 Axes>"
      ]
     },
     "metadata": {},
     "output_type": "display_data"
    }
   ],
   "source": [
    "import matplotlib.pyplot as plt\n",
    "import numpy as np\n",
    "import pandas as pd\n",
    "\n",
    "eeg_width = 512\n",
    "eeg_data = []\n",
    "eeg_result = []\n",
    "\n",
    "eeg_result_x = []\n",
    "eeg_result_y = []\n",
    "\n",
    "eeg_file = open('SALL.csv', \"r\")   # 파일을 연다\n",
    "\n",
    "for line_data in eeg_file:\n",
    "    eeg_data.append(abs(float(line_data.replace('\\n',''))))\n",
    "\n",
    "np_eeg_data = np.array(eeg_data)\n",
    "for i in range(0, len(np_eeg_data) // eeg_width):\n",
    "    eeg_width_data = np_eeg_data[(i * eeg_width) : (i + 1) * eeg_width] # 데이터 512개 \n",
    "    for j in range(0, len(eeg_width_data)-1, 100):\n",
    "        eeg_result_x.append(eeg_width_data[j])\n",
    "        eeg_result_y.append(eeg_width_data[j + 1])\n",
    "        \n",
    "    plt.scatter(eeg_result_x, eeg_result_y)\n",
    "    plt.savefig(\"s_eegImages100\\eegfig\" + str(i) + \".png\", dpi=600)\n",
    "    plt.clf()\n",
    "    eeg_result_x.clear()\n",
    "    eeg_result_y.clear()"
   ]
  },
  {
   "cell_type": "code",
   "execution_count": null,
   "id": "39e83f20-848a-4ad5-92a8-acf17244a44f",
   "metadata": {},
   "outputs": [],
   "source": []
  },
  {
   "cell_type": "code",
   "execution_count": null,
   "id": "561f7460-4753-4dfa-a804-33fe006b3fef",
   "metadata": {},
   "outputs": [],
   "source": []
  }
 ],
 "metadata": {
  "kernelspec": {
   "display_name": "Python 3 (ipykernel)",
   "language": "python",
   "name": "python3"
  },
  "language_info": {
   "codemirror_mode": {
    "name": "ipython",
    "version": 3
   },
   "file_extension": ".py",
   "mimetype": "text/x-python",
   "name": "python",
   "nbconvert_exporter": "python",
   "pygments_lexer": "ipython3",
   "version": "3.12.4"
  }
 },
 "nbformat": 4,
 "nbformat_minor": 5
}
